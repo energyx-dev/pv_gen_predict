{
 "cells": [
  {
   "cell_type": "code",
   "execution_count": 1,
   "id": "015f851a",
   "metadata": {},
   "outputs": [],
   "source": [
    "# coding: utf-8\n",
    "import matplotlib.pyplot as plt\n",
    "plt.rcParams['axes.unicode_minus'] = False\n",
    "plt.rcParams['font.family'] = 'sans-serif'\n",
    "import pandas as pd\n",
    "import numpy as np\n",
    "import multiprocessing\n",
    "import joblib\n",
    "from pandas.core.indexes.datetimes import date_range\n",
    "from time import time\n",
    "from sklearn.model_selection import train_test_split\n",
    "from sklearn.metrics import mean_squared_error, mean_absolute_error\n",
    "from sklearn.multioutput import MultiOutputRegressor\n",
    "import xgboost as xgboost"
   ]
  },
  {
   "cell_type": "code",
   "execution_count": 2,
   "id": "d86d70f8",
   "metadata": {},
   "outputs": [
    {
     "name": "stdout",
     "output_type": "stream",
     "text": [
      "61344\n",
      "61344\n",
      "61344\n",
      "61344\n",
      "61344\n",
      "61344\n",
      "61344\n",
      "61344\n",
      "61344\n"
     ]
    }
   ],
   "source": [
    "data1 = pd.read_csv(\"한국남부발전(주)_인천수산정수장 태양광발전실적_20201119.csv\",encoding='CP949',index_col=0,parse_dates=True)\n",
    "data1 = data1.loc[:'2019']\n",
    "preprocessed_data1 = data1[['1','2','3','4','5','6','7','8','9','10','11','12','13','14','15','16','17','18','19','20','21','22','23','24']]\n",
    "preprocessed_data1.columns = ['1','2','3','4','5','6','7','8','9','10','11','12','13','14','15','16','17','18','19','20','21','22','23','24']\n",
    "preprocessed_redata1 = preprocessed_data1[['1','2','3','4','5','6','7','8','9','10','11','12','13','14','15','16','17','18','19','20','21','22','23','24']]\n",
    "preprocessed_redata1 = preprocessed_redata1.reindex(pd.date_range(start='2013-01-01', end='2019-12-31'), fill_value=0)\n",
    "preprocessed_redata1.loc['2018-11-24'] = preprocessed_redata1.loc['2018-11-23'].values\n",
    "\n",
    "data2 = pd.read_csv(\"./한국남부발전(주)_신인천소내 태양광발전실적_20200820.csv\",encoding='CP949',index_col=0,parse_dates=True)\n",
    "data2 = data2.loc[:'2019']\n",
    "preprocessed_data2 = data2[['1','2','3','4','5','6','7','8','9','10','11','12','13','14','15','16','17','18','19','20','21','22','23','24']]\n",
    "preprocessed_data2.columns = ['1','2','3','4','5','6','7','8','9','10','11','12','13','14','15','16','17','18','19','20','21','22','23','24']\n",
    "preprocessed_redata2 = preprocessed_data2[['1','2','3','4','5','6','7','8','9','10','11','12','13','14','15','16','17','18','19','20','21','22','23','24']]\n",
    "preprocessed_redata2 = preprocessed_redata2.reindex(pd.date_range(start='2013-01-01', end='2019-12-31'), fill_value=0)\n",
    "preprocessed_redata2.loc['2016-05-04'] = preprocessed_redata2.loc['2016-05-03'].values\n",
    "preprocessed_redata2.loc['2016-06-01'] = preprocessed_redata2.loc['2016-06-02'].values\n",
    "\n",
    "data3 = pd.read_csv(\"./한국남부발전(주)_부산복합자재창고 태양광발전실적_20200924.csv\",encoding='CP949',index_col=0,parse_dates=True)\n",
    "data3_1 = data3[data3['호기'] == 1]\n",
    "data3_1 = data3_1.loc[:'2019']\n",
    "preprocessed_data3_1 = data3_1[['1','2','3','4','5','6','7','8','9','10','11','12','13','14','15','16','17','18','19','20','21','22','23','24']]\n",
    "preprocessed_data3_1.columns = ['1','2','3','4','5','6','7','8','9','10','11','12','13','14','15','16','17','18','19','20','21','22','23','24']\n",
    "preprocessed_redata3_1 = preprocessed_data3_1[['1','2','3','4','5','6','7','8','9','10','11','12','13','14','15','16','17','18','19','20','21','22','23','24']]\n",
    "\n",
    "data4 = pd.read_csv(\"./한국남부발전(주)_부산신항 태양광발전실적_20200820.csv\",encoding='CP949',index_col=0,parse_dates=True)\n",
    "data4 = data4.loc[:'2019']\n",
    "preprocessed_data4 = data4[['1','2','3','4','5','6','7','8','9','10','11','12','13','14','15','16','17','18','19','20','21','22','23','24']]\n",
    "preprocessed_data4.columns = ['1','2','3','4','5','6','7','8','9','10','11','12','13','14','15','16','17','18','19','20','21','22','23','24']\n",
    "preprocessed_redata4 = preprocessed_data4[['1','2','3','4','5','6','7','8','9','10','11','12','13','14','15','16','17','18','19','20','21','22','23','24']]\n",
    "\n",
    "data5 = pd.read_csv(\"한국남부발전(주)_영월본부 태양광발전실적_20200820.csv\",encoding='CP949',index_col=0,parse_dates=True)\n",
    "data5 = data5.loc[:'2019']\n",
    "preprocessed_data5 = data5[['1','2','3','4','5','6','7','8','9','10','11','12','13','14','15','16','17','18','19','20','21','22','23','24']]\n",
    "preprocessed_data5.columns = ['1','2','3','4','5','6','7','8','9','10','11','12','13','14','15','16','17','18','19','20','21','22','23','24']\n",
    "preprocessed_redata5 = preprocessed_data5[['1','2','3','4','5','6','7','8','9','10','11','12','13','14','15','16','17','18','19','20','21','22','23','24']]\n",
    "preprocessed_redata5 = preprocessed_redata5.reindex(pd.date_range(start='2013-01-01', end='2019-12-31'), fill_value=0)\n",
    "preprocessed_redata5.loc['2015-08-31'] = preprocessed_redata5.loc['2015-08-30'].values\n",
    "\n",
    "data6 = pd.read_csv(\"한국남부발전(주)_하동본부 태양광발전실적_20201119.csv\",encoding='CP949',index_col=0,parse_dates=True)\n",
    "data6_1 = data6[data6['호기'] == 1]\n",
    "data6_1 = data6_1.loc[:'2019']\n",
    "data6_2 = data6[data6['호기'] == 2]\n",
    "data6_2 = data6_2.loc[:'2019']\n",
    "data6_3 = data6[data6['호기'] == 3]\n",
    "data6_3 = data6_3.loc[:'2019']\n",
    "preprocessed_data6_1 = data6_1[['1','2','3','4','5','6','7','8','9','10','11','12','13','14','15','16','17','18','19','20','21','22','23','24']]\n",
    "preprocessed_data6_1.columns = ['1','2','3','4','5','6','7','8','9','10','11','12','13','14','15','16','17','18','19','20','21','22','23','24']\n",
    "preprocessed_redata6_1 = preprocessed_data6_1[['1','2','3','4','5','6','7','8','9','10','11','12','13','14','15','16','17','18','19','20','21','22','23','24']]\n",
    "preprocessed_data6_2 = data6_2[['1','2','3','4','5','6','7','8','9','10','11','12','13','14','15','16','17','18','19','20','21','22','23','24']]\n",
    "preprocessed_data6_2.columns = ['1','2','3','4','5','6','7','8','9','10','11','12','13','14','15','16','17','18','19','20','21','22','23','24']\n",
    "preprocessed_redata6_2 = preprocessed_data6_2[['1','2','3','4','5','6','7','8','9','10','11','12','13','14','15','16','17','18','19','20','21','22','23','24']]\n",
    "preprocessed_data6_3 = data6_3[['1','2','3','4','5','6','7','8','9','10','11','12','13','14','15','16','17','18','19','20','21','22','23','24']]\n",
    "preprocessed_data6_3.columns = ['1','2','3','4','5','6','7','8','9','10','11','12','13','14','15','16','17','18','19','20','21','22','23','24']\n",
    "preprocessed_redata6_3 = preprocessed_data6_3[['1','2','3','4','5','6','7','8','9','10','11','12','13','14','15','16','17','18','19','20','21','22','23','24']]\n",
    "\n",
    "\n",
    "preprocessed_redata1_flat = preprocessed_redata1.stack(dropna=False)\n",
    "preprocessed_redata2_flat = preprocessed_redata2.stack(dropna=False)\n",
    "preprocessed_redata3_1_flat = preprocessed_redata3_1.stack(dropna=False)\n",
    "preprocessed_redata4_flat = preprocessed_redata4.stack(dropna=False)\n",
    "preprocessed_redata5_flat = preprocessed_redata5.stack(dropna=False)\n",
    "preprocessed_redata6_1_flat = preprocessed_redata6_1.stack(dropna=False)\n",
    "preprocessed_redata6_2_flat = preprocessed_redata6_2.stack(dropna=False)\n",
    "preprocessed_redata6_3_flat = preprocessed_redata6_3.stack(dropna=False)\n",
    "\n",
    "\n",
    "\n",
    "index_date =pd.date_range(start='2013-01-01 00:00:00', end='2020-01-01 00:00:00', closed='right', freq='H', tz='Asia/Seoul')\n",
    "print(len(preprocessed_redata1_flat.index))\n",
    "print(len(preprocessed_redata2_flat.index))\n",
    "print(len(preprocessed_redata3_1_flat.index))\n",
    "print(len(preprocessed_redata4_flat.index))\n",
    "print(len(preprocessed_redata5_flat.index))\n",
    "print(len(preprocessed_redata6_1_flat.index))\n",
    "print(len(preprocessed_redata6_2_flat.index))\n",
    "print(len(preprocessed_redata6_3_flat.index))\n",
    "print(len(index_date))\n",
    "\n",
    "df_pre1 = pd.DataFrame(data=preprocessed_redata1_flat.values, index=index_date)\n",
    "df_pre1['site'] = 1\n",
    "df_pre2 = pd.DataFrame(data=preprocessed_redata2_flat.values, index=index_date)\n",
    "df_pre2['site'] = 2\n",
    "df_pre3_1 = pd.DataFrame(data=preprocessed_redata3_1_flat.values, index=index_date)\n",
    "df_pre3_1['site'] = 3\n",
    "df_pre4 = pd.DataFrame(data=preprocessed_redata4_flat.values, index=index_date)\n",
    "df_pre4['site'] = 4\n",
    "df_pre5 = pd.DataFrame(data=preprocessed_redata5_flat.values, index=index_date)\n",
    "df_pre5['site'] = 5\n",
    "df_pre6_1 = pd.DataFrame(data=preprocessed_redata6_1_flat.values, index=index_date)\n",
    "df_pre6_1['site'] = 6.1\n",
    "df_pre6_2 = pd.DataFrame(data=preprocessed_redata6_2_flat.values, index=index_date)\n",
    "df_pre6_2['site'] = 6.2\n",
    "df_pre6_3 = pd.DataFrame(data=preprocessed_redata6_3_flat.values, index=index_date)\n",
    "df_pre6_3['site'] = 6.3\n",
    "\n",
    "df_full = pd.concat([df_pre1, df_pre2, df_pre3_1, df_pre4, df_pre5, df_pre6_1, df_pre6_2, df_pre6_3], axis=0)\n",
    "df_full.columns = ['발전량', 'site']"
   ]
  },
  {
   "cell_type": "code",
   "execution_count": 3,
   "id": "43bccf65",
   "metadata": {},
   "outputs": [
    {
     "data": {
      "text/html": [
       "<div>\n",
       "<style scoped>\n",
       "    .dataframe tbody tr th:only-of-type {\n",
       "        vertical-align: middle;\n",
       "    }\n",
       "\n",
       "    .dataframe tbody tr th {\n",
       "        vertical-align: top;\n",
       "    }\n",
       "\n",
       "    .dataframe thead th {\n",
       "        text-align: right;\n",
       "    }\n",
       "</style>\n",
       "<table border=\"1\" class=\"dataframe\">\n",
       "  <thead>\n",
       "    <tr style=\"text-align: right;\">\n",
       "      <th></th>\n",
       "      <th>발전량</th>\n",
       "      <th>site</th>\n",
       "    </tr>\n",
       "  </thead>\n",
       "  <tbody>\n",
       "    <tr>\n",
       "      <th>2013-01-01 01:00:00+09:00</th>\n",
       "      <td>0.0</td>\n",
       "      <td>1.0</td>\n",
       "    </tr>\n",
       "    <tr>\n",
       "      <th>2013-01-01 02:00:00+09:00</th>\n",
       "      <td>0.0</td>\n",
       "      <td>1.0</td>\n",
       "    </tr>\n",
       "    <tr>\n",
       "      <th>2013-01-01 03:00:00+09:00</th>\n",
       "      <td>0.0</td>\n",
       "      <td>1.0</td>\n",
       "    </tr>\n",
       "    <tr>\n",
       "      <th>2013-01-01 04:00:00+09:00</th>\n",
       "      <td>0.0</td>\n",
       "      <td>1.0</td>\n",
       "    </tr>\n",
       "    <tr>\n",
       "      <th>2013-01-01 05:00:00+09:00</th>\n",
       "      <td>0.0</td>\n",
       "      <td>1.0</td>\n",
       "    </tr>\n",
       "    <tr>\n",
       "      <th>...</th>\n",
       "      <td>...</td>\n",
       "      <td>...</td>\n",
       "    </tr>\n",
       "    <tr>\n",
       "      <th>2019-12-31 20:00:00+09:00</th>\n",
       "      <td>0.0</td>\n",
       "      <td>6.3</td>\n",
       "    </tr>\n",
       "    <tr>\n",
       "      <th>2019-12-31 21:00:00+09:00</th>\n",
       "      <td>0.0</td>\n",
       "      <td>6.3</td>\n",
       "    </tr>\n",
       "    <tr>\n",
       "      <th>2019-12-31 22:00:00+09:00</th>\n",
       "      <td>0.0</td>\n",
       "      <td>6.3</td>\n",
       "    </tr>\n",
       "    <tr>\n",
       "      <th>2019-12-31 23:00:00+09:00</th>\n",
       "      <td>0.0</td>\n",
       "      <td>6.3</td>\n",
       "    </tr>\n",
       "    <tr>\n",
       "      <th>2020-01-01 00:00:00+09:00</th>\n",
       "      <td>0.0</td>\n",
       "      <td>6.3</td>\n",
       "    </tr>\n",
       "  </tbody>\n",
       "</table>\n",
       "<p>490752 rows × 2 columns</p>\n",
       "</div>"
      ],
      "text/plain": [
       "                           발전량  site\n",
       "2013-01-01 01:00:00+09:00  0.0   1.0\n",
       "2013-01-01 02:00:00+09:00  0.0   1.0\n",
       "2013-01-01 03:00:00+09:00  0.0   1.0\n",
       "2013-01-01 04:00:00+09:00  0.0   1.0\n",
       "2013-01-01 05:00:00+09:00  0.0   1.0\n",
       "...                        ...   ...\n",
       "2019-12-31 20:00:00+09:00  0.0   6.3\n",
       "2019-12-31 21:00:00+09:00  0.0   6.3\n",
       "2019-12-31 22:00:00+09:00  0.0   6.3\n",
       "2019-12-31 23:00:00+09:00  0.0   6.3\n",
       "2020-01-01 00:00:00+09:00  0.0   6.3\n",
       "\n",
       "[490752 rows x 2 columns]"
      ]
     },
     "execution_count": 3,
     "metadata": {},
     "output_type": "execute_result"
    }
   ],
   "source": [
    "generations_data = df_full\n",
    "# generations_data = pd.DataFrame(index=df_full.index, data=df_full.values)\n",
    "# generations_data.columns = ['발전량']\n",
    "generations_data = generations_data.fillna(0)\n",
    "selected_gens = generations_data\n",
    "selected_gens"
   ]
  },
  {
   "cell_type": "code",
   "execution_count": 4,
   "id": "00eba36f",
   "metadata": {},
   "outputs": [
    {
     "data": {
      "text/html": [
       "<div>\n",
       "<style scoped>\n",
       "    .dataframe tbody tr th:only-of-type {\n",
       "        vertical-align: middle;\n",
       "    }\n",
       "\n",
       "    .dataframe tbody tr th {\n",
       "        vertical-align: top;\n",
       "    }\n",
       "\n",
       "    .dataframe thead th {\n",
       "        text-align: right;\n",
       "    }\n",
       "</style>\n",
       "<table border=\"1\" class=\"dataframe\">\n",
       "  <thead>\n",
       "    <tr style=\"text-align: right;\">\n",
       "      <th></th>\n",
       "      <th>PeriodStart</th>\n",
       "      <th>Period</th>\n",
       "      <th>AirTemp</th>\n",
       "      <th>Azimuth</th>\n",
       "      <th>CloudOpacity</th>\n",
       "      <th>DewpointTemp</th>\n",
       "      <th>Dhi</th>\n",
       "      <th>Dni</th>\n",
       "      <th>Ebh</th>\n",
       "      <th>Ghi</th>\n",
       "      <th>...</th>\n",
       "      <th>GtiTracking</th>\n",
       "      <th>PrecipitableWater</th>\n",
       "      <th>RelativeHumidity</th>\n",
       "      <th>SnowWater</th>\n",
       "      <th>SurfacePressure</th>\n",
       "      <th>WindDirection10m</th>\n",
       "      <th>WindSpeed10m</th>\n",
       "      <th>Zenith</th>\n",
       "      <th>AlbedoDaily</th>\n",
       "      <th>site</th>\n",
       "    </tr>\n",
       "    <tr>\n",
       "      <th>PeriodEnd</th>\n",
       "      <th></th>\n",
       "      <th></th>\n",
       "      <th></th>\n",
       "      <th></th>\n",
       "      <th></th>\n",
       "      <th></th>\n",
       "      <th></th>\n",
       "      <th></th>\n",
       "      <th></th>\n",
       "      <th></th>\n",
       "      <th></th>\n",
       "      <th></th>\n",
       "      <th></th>\n",
       "      <th></th>\n",
       "      <th></th>\n",
       "      <th></th>\n",
       "      <th></th>\n",
       "      <th></th>\n",
       "      <th></th>\n",
       "      <th></th>\n",
       "      <th></th>\n",
       "    </tr>\n",
       "  </thead>\n",
       "  <tbody>\n",
       "    <tr>\n",
       "      <th>2012-12-31 02:00:00+00:00</th>\n",
       "      <td>2012-12-31T01:00:00Z</td>\n",
       "      <td>PT60M</td>\n",
       "      <td>-8.6</td>\n",
       "      <td>-149</td>\n",
       "      <td>9.1</td>\n",
       "      <td>-14.9</td>\n",
       "      <td>155</td>\n",
       "      <td>513</td>\n",
       "      <td>197</td>\n",
       "      <td>352</td>\n",
       "      <td>...</td>\n",
       "      <td>477</td>\n",
       "      <td>2.8</td>\n",
       "      <td>60.0</td>\n",
       "      <td>1.0</td>\n",
       "      <td>1010.5</td>\n",
       "      <td>317</td>\n",
       "      <td>4.4</td>\n",
       "      <td>68</td>\n",
       "      <td>0.20</td>\n",
       "      <td>1.0</td>\n",
       "    </tr>\n",
       "    <tr>\n",
       "      <th>2012-12-31 03:00:00+00:00</th>\n",
       "      <td>2012-12-31T02:00:00Z</td>\n",
       "      <td>PT60M</td>\n",
       "      <td>-7.3</td>\n",
       "      <td>-163</td>\n",
       "      <td>6.1</td>\n",
       "      <td>-14.3</td>\n",
       "      <td>156</td>\n",
       "      <td>647</td>\n",
       "      <td>296</td>\n",
       "      <td>453</td>\n",
       "      <td>...</td>\n",
       "      <td>513</td>\n",
       "      <td>3.0</td>\n",
       "      <td>57.4</td>\n",
       "      <td>1.0</td>\n",
       "      <td>1010.3</td>\n",
       "      <td>313</td>\n",
       "      <td>4.7</td>\n",
       "      <td>63</td>\n",
       "      <td>0.20</td>\n",
       "      <td>1.0</td>\n",
       "    </tr>\n",
       "    <tr>\n",
       "      <th>2012-12-31 04:00:00+00:00</th>\n",
       "      <td>2012-12-31T03:00:00Z</td>\n",
       "      <td>PT60M</td>\n",
       "      <td>-6.4</td>\n",
       "      <td>-178</td>\n",
       "      <td>5.3</td>\n",
       "      <td>-13.7</td>\n",
       "      <td>165</td>\n",
       "      <td>665</td>\n",
       "      <td>322</td>\n",
       "      <td>487</td>\n",
       "      <td>...</td>\n",
       "      <td>499</td>\n",
       "      <td>3.3</td>\n",
       "      <td>56.3</td>\n",
       "      <td>1.0</td>\n",
       "      <td>1010.0</td>\n",
       "      <td>308</td>\n",
       "      <td>4.9</td>\n",
       "      <td>61</td>\n",
       "      <td>0.20</td>\n",
       "      <td>1.0</td>\n",
       "    </tr>\n",
       "    <tr>\n",
       "      <th>2012-12-31 05:00:00+00:00</th>\n",
       "      <td>2012-12-31T04:00:00Z</td>\n",
       "      <td>PT60M</td>\n",
       "      <td>-5.7</td>\n",
       "      <td>166</td>\n",
       "      <td>6.7</td>\n",
       "      <td>-13.1</td>\n",
       "      <td>166</td>\n",
       "      <td>617</td>\n",
       "      <td>290</td>\n",
       "      <td>456</td>\n",
       "      <td>...</td>\n",
       "      <td>492</td>\n",
       "      <td>3.6</td>\n",
       "      <td>56.3</td>\n",
       "      <td>1.0</td>\n",
       "      <td>1009.5</td>\n",
       "      <td>303</td>\n",
       "      <td>5.0</td>\n",
       "      <td>62</td>\n",
       "      <td>0.20</td>\n",
       "      <td>1.0</td>\n",
       "    </tr>\n",
       "    <tr>\n",
       "      <th>2012-12-31 06:00:00+00:00</th>\n",
       "      <td>2012-12-31T05:00:00Z</td>\n",
       "      <td>PT60M</td>\n",
       "      <td>-5.2</td>\n",
       "      <td>152</td>\n",
       "      <td>24.3</td>\n",
       "      <td>-12.4</td>\n",
       "      <td>234</td>\n",
       "      <td>166</td>\n",
       "      <td>71</td>\n",
       "      <td>306</td>\n",
       "      <td>...</td>\n",
       "      <td>326</td>\n",
       "      <td>3.8</td>\n",
       "      <td>56.7</td>\n",
       "      <td>1.0</td>\n",
       "      <td>1009.1</td>\n",
       "      <td>298</td>\n",
       "      <td>5.1</td>\n",
       "      <td>67</td>\n",
       "      <td>0.20</td>\n",
       "      <td>1.0</td>\n",
       "    </tr>\n",
       "    <tr>\n",
       "      <th>...</th>\n",
       "      <td>...</td>\n",
       "      <td>...</td>\n",
       "      <td>...</td>\n",
       "      <td>...</td>\n",
       "      <td>...</td>\n",
       "      <td>...</td>\n",
       "      <td>...</td>\n",
       "      <td>...</td>\n",
       "      <td>...</td>\n",
       "      <td>...</td>\n",
       "      <td>...</td>\n",
       "      <td>...</td>\n",
       "      <td>...</td>\n",
       "      <td>...</td>\n",
       "      <td>...</td>\n",
       "      <td>...</td>\n",
       "      <td>...</td>\n",
       "      <td>...</td>\n",
       "      <td>...</td>\n",
       "      <td>...</td>\n",
       "      <td>...</td>\n",
       "    </tr>\n",
       "    <tr>\n",
       "      <th>2021-01-01 18:00:00+00:00</th>\n",
       "      <td>2021-01-01T17:00:00Z</td>\n",
       "      <td>PT60M</td>\n",
       "      <td>0.6</td>\n",
       "      <td>-73</td>\n",
       "      <td>78.7</td>\n",
       "      <td>-2.7</td>\n",
       "      <td>0</td>\n",
       "      <td>0</td>\n",
       "      <td>0</td>\n",
       "      <td>0</td>\n",
       "      <td>...</td>\n",
       "      <td>0</td>\n",
       "      <td>6.2</td>\n",
       "      <td>78.8</td>\n",
       "      <td>0.0</td>\n",
       "      <td>1016.8</td>\n",
       "      <td>298</td>\n",
       "      <td>2.5</td>\n",
       "      <td>151</td>\n",
       "      <td>0.15</td>\n",
       "      <td>6.3</td>\n",
       "    </tr>\n",
       "    <tr>\n",
       "      <th>2021-01-01 19:00:00+00:00</th>\n",
       "      <td>2021-01-01T18:00:00Z</td>\n",
       "      <td>PT60M</td>\n",
       "      <td>0.5</td>\n",
       "      <td>-85</td>\n",
       "      <td>70.1</td>\n",
       "      <td>-2.4</td>\n",
       "      <td>0</td>\n",
       "      <td>0</td>\n",
       "      <td>0</td>\n",
       "      <td>0</td>\n",
       "      <td>...</td>\n",
       "      <td>0</td>\n",
       "      <td>6.5</td>\n",
       "      <td>80.6</td>\n",
       "      <td>0.0</td>\n",
       "      <td>1017.1</td>\n",
       "      <td>306</td>\n",
       "      <td>2.2</td>\n",
       "      <td>139</td>\n",
       "      <td>0.15</td>\n",
       "      <td>6.3</td>\n",
       "    </tr>\n",
       "    <tr>\n",
       "      <th>2021-01-01 20:00:00+00:00</th>\n",
       "      <td>2021-01-01T19:00:00Z</td>\n",
       "      <td>PT60M</td>\n",
       "      <td>0.2</td>\n",
       "      <td>-94</td>\n",
       "      <td>33.7</td>\n",
       "      <td>-2.0</td>\n",
       "      <td>0</td>\n",
       "      <td>0</td>\n",
       "      <td>0</td>\n",
       "      <td>0</td>\n",
       "      <td>...</td>\n",
       "      <td>0</td>\n",
       "      <td>6.7</td>\n",
       "      <td>85.1</td>\n",
       "      <td>0.0</td>\n",
       "      <td>1017.3</td>\n",
       "      <td>320</td>\n",
       "      <td>2.7</td>\n",
       "      <td>127</td>\n",
       "      <td>0.15</td>\n",
       "      <td>6.3</td>\n",
       "    </tr>\n",
       "    <tr>\n",
       "      <th>2021-01-01 21:00:00+00:00</th>\n",
       "      <td>2021-01-01T20:00:00Z</td>\n",
       "      <td>PT60M</td>\n",
       "      <td>-0.1</td>\n",
       "      <td>-102</td>\n",
       "      <td>76.3</td>\n",
       "      <td>-1.7</td>\n",
       "      <td>0</td>\n",
       "      <td>0</td>\n",
       "      <td>0</td>\n",
       "      <td>0</td>\n",
       "      <td>...</td>\n",
       "      <td>0</td>\n",
       "      <td>6.2</td>\n",
       "      <td>89.3</td>\n",
       "      <td>0.0</td>\n",
       "      <td>1017.5</td>\n",
       "      <td>344</td>\n",
       "      <td>2.6</td>\n",
       "      <td>115</td>\n",
       "      <td>0.15</td>\n",
       "      <td>6.3</td>\n",
       "    </tr>\n",
       "    <tr>\n",
       "      <th>2021-01-01 22:00:00+00:00</th>\n",
       "      <td>2021-01-01T21:00:00Z</td>\n",
       "      <td>PT60M</td>\n",
       "      <td>-0.4</td>\n",
       "      <td>-109</td>\n",
       "      <td>27.3</td>\n",
       "      <td>-2.2</td>\n",
       "      <td>0</td>\n",
       "      <td>0</td>\n",
       "      <td>0</td>\n",
       "      <td>0</td>\n",
       "      <td>...</td>\n",
       "      <td>0</td>\n",
       "      <td>5.6</td>\n",
       "      <td>88.0</td>\n",
       "      <td>0.0</td>\n",
       "      <td>1017.8</td>\n",
       "      <td>3</td>\n",
       "      <td>2.1</td>\n",
       "      <td>103</td>\n",
       "      <td>0.15</td>\n",
       "      <td>6.3</td>\n",
       "    </tr>\n",
       "  </tbody>\n",
       "</table>\n",
       "<p>561384 rows × 21 columns</p>\n",
       "</div>"
      ],
      "text/plain": [
       "                                    PeriodStart Period  AirTemp  Azimuth  \\\n",
       "PeriodEnd                                                                  \n",
       "2012-12-31 02:00:00+00:00  2012-12-31T01:00:00Z  PT60M     -8.6     -149   \n",
       "2012-12-31 03:00:00+00:00  2012-12-31T02:00:00Z  PT60M     -7.3     -163   \n",
       "2012-12-31 04:00:00+00:00  2012-12-31T03:00:00Z  PT60M     -6.4     -178   \n",
       "2012-12-31 05:00:00+00:00  2012-12-31T04:00:00Z  PT60M     -5.7      166   \n",
       "2012-12-31 06:00:00+00:00  2012-12-31T05:00:00Z  PT60M     -5.2      152   \n",
       "...                                         ...    ...      ...      ...   \n",
       "2021-01-01 18:00:00+00:00  2021-01-01T17:00:00Z  PT60M      0.6      -73   \n",
       "2021-01-01 19:00:00+00:00  2021-01-01T18:00:00Z  PT60M      0.5      -85   \n",
       "2021-01-01 20:00:00+00:00  2021-01-01T19:00:00Z  PT60M      0.2      -94   \n",
       "2021-01-01 21:00:00+00:00  2021-01-01T20:00:00Z  PT60M     -0.1     -102   \n",
       "2021-01-01 22:00:00+00:00  2021-01-01T21:00:00Z  PT60M     -0.4     -109   \n",
       "\n",
       "                           CloudOpacity  DewpointTemp  Dhi  Dni  Ebh  Ghi  \\\n",
       "PeriodEnd                                                                   \n",
       "2012-12-31 02:00:00+00:00           9.1         -14.9  155  513  197  352   \n",
       "2012-12-31 03:00:00+00:00           6.1         -14.3  156  647  296  453   \n",
       "2012-12-31 04:00:00+00:00           5.3         -13.7  165  665  322  487   \n",
       "2012-12-31 05:00:00+00:00           6.7         -13.1  166  617  290  456   \n",
       "2012-12-31 06:00:00+00:00          24.3         -12.4  234  166   71  306   \n",
       "...                                 ...           ...  ...  ...  ...  ...   \n",
       "2021-01-01 18:00:00+00:00          78.7          -2.7    0    0    0    0   \n",
       "2021-01-01 19:00:00+00:00          70.1          -2.4    0    0    0    0   \n",
       "2021-01-01 20:00:00+00:00          33.7          -2.0    0    0    0    0   \n",
       "2021-01-01 21:00:00+00:00          76.3          -1.7    0    0    0    0   \n",
       "2021-01-01 22:00:00+00:00          27.3          -2.2    0    0    0    0   \n",
       "\n",
       "                           ...  GtiTracking  PrecipitableWater  \\\n",
       "PeriodEnd                  ...                                   \n",
       "2012-12-31 02:00:00+00:00  ...          477                2.8   \n",
       "2012-12-31 03:00:00+00:00  ...          513                3.0   \n",
       "2012-12-31 04:00:00+00:00  ...          499                3.3   \n",
       "2012-12-31 05:00:00+00:00  ...          492                3.6   \n",
       "2012-12-31 06:00:00+00:00  ...          326                3.8   \n",
       "...                        ...          ...                ...   \n",
       "2021-01-01 18:00:00+00:00  ...            0                6.2   \n",
       "2021-01-01 19:00:00+00:00  ...            0                6.5   \n",
       "2021-01-01 20:00:00+00:00  ...            0                6.7   \n",
       "2021-01-01 21:00:00+00:00  ...            0                6.2   \n",
       "2021-01-01 22:00:00+00:00  ...            0                5.6   \n",
       "\n",
       "                           RelativeHumidity  SnowWater  SurfacePressure  \\\n",
       "PeriodEnd                                                                 \n",
       "2012-12-31 02:00:00+00:00              60.0        1.0           1010.5   \n",
       "2012-12-31 03:00:00+00:00              57.4        1.0           1010.3   \n",
       "2012-12-31 04:00:00+00:00              56.3        1.0           1010.0   \n",
       "2012-12-31 05:00:00+00:00              56.3        1.0           1009.5   \n",
       "2012-12-31 06:00:00+00:00              56.7        1.0           1009.1   \n",
       "...                                     ...        ...              ...   \n",
       "2021-01-01 18:00:00+00:00              78.8        0.0           1016.8   \n",
       "2021-01-01 19:00:00+00:00              80.6        0.0           1017.1   \n",
       "2021-01-01 20:00:00+00:00              85.1        0.0           1017.3   \n",
       "2021-01-01 21:00:00+00:00              89.3        0.0           1017.5   \n",
       "2021-01-01 22:00:00+00:00              88.0        0.0           1017.8   \n",
       "\n",
       "                           WindDirection10m  WindSpeed10m  Zenith  \\\n",
       "PeriodEnd                                                           \n",
       "2012-12-31 02:00:00+00:00               317           4.4      68   \n",
       "2012-12-31 03:00:00+00:00               313           4.7      63   \n",
       "2012-12-31 04:00:00+00:00               308           4.9      61   \n",
       "2012-12-31 05:00:00+00:00               303           5.0      62   \n",
       "2012-12-31 06:00:00+00:00               298           5.1      67   \n",
       "...                                     ...           ...     ...   \n",
       "2021-01-01 18:00:00+00:00               298           2.5     151   \n",
       "2021-01-01 19:00:00+00:00               306           2.2     139   \n",
       "2021-01-01 20:00:00+00:00               320           2.7     127   \n",
       "2021-01-01 21:00:00+00:00               344           2.6     115   \n",
       "2021-01-01 22:00:00+00:00                 3           2.1     103   \n",
       "\n",
       "                           AlbedoDaily  site  \n",
       "PeriodEnd                                     \n",
       "2012-12-31 02:00:00+00:00         0.20   1.0  \n",
       "2012-12-31 03:00:00+00:00         0.20   1.0  \n",
       "2012-12-31 04:00:00+00:00         0.20   1.0  \n",
       "2012-12-31 05:00:00+00:00         0.20   1.0  \n",
       "2012-12-31 06:00:00+00:00         0.20   1.0  \n",
       "...                                ...   ...  \n",
       "2021-01-01 18:00:00+00:00         0.15   6.3  \n",
       "2021-01-01 19:00:00+00:00         0.15   6.3  \n",
       "2021-01-01 20:00:00+00:00         0.15   6.3  \n",
       "2021-01-01 21:00:00+00:00         0.15   6.3  \n",
       "2021-01-01 22:00:00+00:00         0.15   6.3  \n",
       "\n",
       "[561384 rows x 21 columns]"
      ]
     },
     "execution_count": 4,
     "metadata": {},
     "output_type": "execute_result"
    }
   ],
   "source": [
    "weather_data_1 = pd.read_csv('37.4772_126.6249_Solcast_PT60M.csv', parse_dates=True, index_col='PeriodEnd')\n",
    "weather_data_2 = pd.read_csv('37.4772_126.6249_Solcast_PT60M.csv', parse_dates=True, index_col='PeriodEnd')\n",
    "weather_data_3 = pd.read_csv('35.10468_129.0323_Solcast_PT60M.csv', parse_dates=True, index_col='PeriodEnd')\n",
    "weather_data_4 = pd.read_csv('35.10468_129.0323_Solcast_PT60M.csv', parse_dates=True, index_col='PeriodEnd')\n",
    "weather_data_5 = pd.read_csv('37.18126_128.4573_Solcast_PT60M.csv', parse_dates=True, index_col='PeriodEnd')\n",
    "weather_data_6_1 = pd.read_csv('34.81662_127.92641_Solcast_PT60M.csv', parse_dates=True, index_col='PeriodEnd')\n",
    "weather_data_6_2 = pd.read_csv('34.81662_127.92641_Solcast_PT60M.csv', parse_dates=True, index_col='PeriodEnd')\n",
    "weather_data_6_3 = pd.read_csv('34.81662_127.92641_Solcast_PT60M.csv', parse_dates=True, index_col='PeriodEnd')\n",
    "weather_data_1['site'] = 1\n",
    "weather_data_2['site'] = 2\n",
    "weather_data_3['site'] = 3\n",
    "weather_data_4['site'] = 4\n",
    "weather_data_5['site'] = 5\n",
    "weather_data_6_1['site'] = 6.1\n",
    "weather_data_6_2['site'] = 6.2\n",
    "weather_data_6_3['site'] = 6.3\n",
    "weather_data_full = pd.concat([weather_data_1, weather_data_2, weather_data_3, weather_data_4, weather_data_5, weather_data_6_1, weather_data_6_2, weather_data_6_3], axis=0)\n",
    "weather_data_full"
   ]
  },
  {
   "cell_type": "code",
   "execution_count": 5,
   "id": "4148a9fd",
   "metadata": {},
   "outputs": [
    {
     "data": {
      "text/plain": [
       "(                                    PeriodStart Period  AirTemp  Azimuth  \\\n",
       " PeriodEnd                                                                  \n",
       " 2012-12-31 02:00:00+00:00  2012-12-31T01:00:00Z  PT60M     -8.6     -149   \n",
       " 2012-12-31 03:00:00+00:00  2012-12-31T02:00:00Z  PT60M     -7.3     -163   \n",
       " 2012-12-31 04:00:00+00:00  2012-12-31T03:00:00Z  PT60M     -6.4     -178   \n",
       " 2012-12-31 05:00:00+00:00  2012-12-31T04:00:00Z  PT60M     -5.7      166   \n",
       " 2012-12-31 06:00:00+00:00  2012-12-31T05:00:00Z  PT60M     -5.2      152   \n",
       " ...                                         ...    ...      ...      ...   \n",
       " 2021-01-01 18:00:00+00:00  2021-01-01T17:00:00Z  PT60M      0.6      -73   \n",
       " 2021-01-01 19:00:00+00:00  2021-01-01T18:00:00Z  PT60M      0.5      -85   \n",
       " 2021-01-01 20:00:00+00:00  2021-01-01T19:00:00Z  PT60M      0.2      -94   \n",
       " 2021-01-01 21:00:00+00:00  2021-01-01T20:00:00Z  PT60M     -0.1     -102   \n",
       " 2021-01-01 22:00:00+00:00  2021-01-01T21:00:00Z  PT60M     -0.4     -109   \n",
       " \n",
       "                            CloudOpacity  Dhi  Dni  Ebh  Ghi  Zenith  site  \n",
       " PeriodEnd                                                                  \n",
       " 2012-12-31 02:00:00+00:00           9.1  155  513  197  352      68   1.0  \n",
       " 2012-12-31 03:00:00+00:00           6.1  156  647  296  453      63   1.0  \n",
       " 2012-12-31 04:00:00+00:00           5.3  165  665  322  487      61   1.0  \n",
       " 2012-12-31 05:00:00+00:00           6.7  166  617  290  456      62   1.0  \n",
       " 2012-12-31 06:00:00+00:00          24.3  234  166   71  306      67   1.0  \n",
       " ...                                 ...  ...  ...  ...  ...     ...   ...  \n",
       " 2021-01-01 18:00:00+00:00          78.7    0    0    0    0     151   6.3  \n",
       " 2021-01-01 19:00:00+00:00          70.1    0    0    0    0     139   6.3  \n",
       " 2021-01-01 20:00:00+00:00          33.7    0    0    0    0     127   6.3  \n",
       " 2021-01-01 21:00:00+00:00          76.3    0    0    0    0     115   6.3  \n",
       " 2021-01-01 22:00:00+00:00          27.3    0    0    0    0     103   6.3  \n",
       " \n",
       " [561384 rows x 11 columns],\n",
       "                            발전량  site\n",
       " 2013-01-01 01:00:00+09:00  0.0   1.0\n",
       " 2013-01-01 02:00:00+09:00  0.0   1.0\n",
       " 2013-01-01 03:00:00+09:00  0.0   1.0\n",
       " 2013-01-01 04:00:00+09:00  0.0   1.0\n",
       " 2013-01-01 05:00:00+09:00  0.0   1.0\n",
       " ...                        ...   ...\n",
       " 2019-12-31 20:00:00+09:00  0.0   6.3\n",
       " 2019-12-31 21:00:00+09:00  0.0   6.3\n",
       " 2019-12-31 22:00:00+09:00  0.0   6.3\n",
       " 2019-12-31 23:00:00+09:00  0.0   6.3\n",
       " 2020-01-01 00:00:00+09:00  0.0   6.3\n",
       " \n",
       " [490752 rows x 2 columns])"
      ]
     },
     "execution_count": 5,
     "metadata": {},
     "output_type": "execute_result"
    }
   ],
   "source": [
    "X = weather_data_full.drop(columns=['DewpointTemp','WindSpeed10m','WindDirection10m', 'RelativeHumidity','PrecipitableWater','SnowWater','SurfacePressure', 'GtiFixedTilt','GtiTracking', 'AlbedoDaily'])\n",
    "y = selected_gens\n",
    "X, y"
   ]
  },
  {
   "cell_type": "code",
   "execution_count": 6,
   "id": "e4fac560",
   "metadata": {},
   "outputs": [
    {
     "data": {
      "text/plain": [
       "((490752, 9), (490752, 2))"
      ]
     },
     "execution_count": 6,
     "metadata": {},
     "output_type": "execute_result"
    }
   ],
   "source": [
    "X_new = X\n",
    "X_new.index = X.index.tz_convert(tz='Asia/Seoul') # forecast\n",
    "X_new = X_new.drop(['PeriodStart', 'Period'], axis=1) # forecast\n",
    "X_new = X_new.loc['2013-01-01 01:00:00+09:00':'2020-01-01 00:00:00+09:00']\n",
    "y_new = y\n",
    "X_new.shape, y_new.shape"
   ]
  },
  {
   "cell_type": "code",
   "execution_count": 7,
   "id": "45861cb9",
   "metadata": {},
   "outputs": [
    {
     "data": {
      "text/plain": [
       "DatetimeIndex(['2013-01-01 01:00:00+09:00', '2013-01-01 02:00:00+09:00',\n",
       "               '2013-01-01 03:00:00+09:00', '2013-01-01 04:00:00+09:00',\n",
       "               '2013-01-01 05:00:00+09:00', '2013-01-01 06:00:00+09:00',\n",
       "               '2013-01-01 07:00:00+09:00', '2013-01-01 08:00:00+09:00',\n",
       "               '2013-01-01 09:00:00+09:00', '2013-01-01 10:00:00+09:00',\n",
       "               ...\n",
       "               '2019-12-31 15:00:00+09:00', '2019-12-31 16:00:00+09:00',\n",
       "               '2019-12-31 17:00:00+09:00', '2019-12-31 18:00:00+09:00',\n",
       "               '2019-12-31 19:00:00+09:00', '2019-12-31 20:00:00+09:00',\n",
       "               '2019-12-31 21:00:00+09:00', '2019-12-31 22:00:00+09:00',\n",
       "               '2019-12-31 23:00:00+09:00', '2020-01-01 00:00:00+09:00'],\n",
       "              dtype='datetime64[ns, Asia/Seoul]', name='PeriodEnd', length=490752, freq=None)"
      ]
     },
     "execution_count": 7,
     "metadata": {},
     "output_type": "execute_result"
    }
   ],
   "source": [
    "X_new.index"
   ]
  },
  {
   "cell_type": "code",
   "execution_count": 8,
   "id": "66c4552d",
   "metadata": {},
   "outputs": [
    {
     "data": {
      "text/plain": [
       "DatetimeIndex(['2013-01-01 01:00:00+09:00', '2013-01-01 02:00:00+09:00',\n",
       "               '2013-01-01 03:00:00+09:00', '2013-01-01 04:00:00+09:00',\n",
       "               '2013-01-01 05:00:00+09:00', '2013-01-01 06:00:00+09:00',\n",
       "               '2013-01-01 07:00:00+09:00', '2013-01-01 08:00:00+09:00',\n",
       "               '2013-01-01 09:00:00+09:00', '2013-01-01 10:00:00+09:00',\n",
       "               ...\n",
       "               '2019-12-31 15:00:00+09:00', '2019-12-31 16:00:00+09:00',\n",
       "               '2019-12-31 17:00:00+09:00', '2019-12-31 18:00:00+09:00',\n",
       "               '2019-12-31 19:00:00+09:00', '2019-12-31 20:00:00+09:00',\n",
       "               '2019-12-31 21:00:00+09:00', '2019-12-31 22:00:00+09:00',\n",
       "               '2019-12-31 23:00:00+09:00', '2020-01-01 00:00:00+09:00'],\n",
       "              dtype='datetime64[ns, Asia/Seoul]', length=490752, freq=None)"
      ]
     },
     "execution_count": 8,
     "metadata": {},
     "output_type": "execute_result"
    }
   ],
   "source": [
    "y_new.index"
   ]
  },
  {
   "cell_type": "code",
   "execution_count": 9,
   "id": "b055a771",
   "metadata": {
    "scrolled": true
   },
   "outputs": [],
   "source": [
    "X_new['month'] = X_new.index.month\n",
    "X_new['day'] = X_new.index.day\n",
    "X_new['hour'] = X_new.index.hour\n",
    "X_new['dayofyear'] = X_new.index.dayofyear"
   ]
  },
  {
   "cell_type": "code",
   "execution_count": 10,
   "id": "66052662",
   "metadata": {},
   "outputs": [
    {
     "data": {
      "text/plain": [
       "DatetimeIndex(['2016-02-29 00:00:00+09:00', '2016-02-29 01:00:00+09:00',\n",
       "               '2016-02-29 02:00:00+09:00', '2016-02-29 03:00:00+09:00',\n",
       "               '2016-02-29 04:00:00+09:00', '2016-02-29 05:00:00+09:00',\n",
       "               '2016-02-29 06:00:00+09:00', '2016-02-29 07:00:00+09:00',\n",
       "               '2016-02-29 08:00:00+09:00', '2016-02-29 09:00:00+09:00',\n",
       "               '2016-02-29 10:00:00+09:00', '2016-02-29 11:00:00+09:00',\n",
       "               '2016-02-29 12:00:00+09:00', '2016-02-29 13:00:00+09:00',\n",
       "               '2016-02-29 14:00:00+09:00', '2016-02-29 15:00:00+09:00',\n",
       "               '2016-02-29 16:00:00+09:00', '2016-02-29 17:00:00+09:00',\n",
       "               '2016-02-29 18:00:00+09:00', '2016-02-29 19:00:00+09:00',\n",
       "               '2016-02-29 20:00:00+09:00', '2016-02-29 21:00:00+09:00',\n",
       "               '2016-02-29 22:00:00+09:00', '2016-02-29 23:00:00+09:00'],\n",
       "              dtype='datetime64[ns, pytz.FixedOffset(540)]', freq='H')"
      ]
     },
     "execution_count": 10,
     "metadata": {},
     "output_type": "execute_result"
    }
   ],
   "source": [
    "X_new.loc['2016-03':'2016-12']['dayofyear'] =  X_new.loc['2016-03':'2016-12']['dayofyear'] - 1\n",
    "dropThis2016 = pd.date_range(start='2016-02-29 00:00:00+09:00', end='2016-02-29 23:00+09:00', freq='H')\n",
    "dropThis2016"
   ]
  },
  {
   "cell_type": "code",
   "execution_count": 11,
   "id": "405229c4",
   "metadata": {},
   "outputs": [
    {
     "data": {
      "text/plain": [
       "(                           AirTemp  Azimuth  CloudOpacity  Dhi  Dni  Ebh  Ghi  \\\n",
       " PeriodEnd                                                                       \n",
       " 2013-01-01 01:00:00+09:00     -8.6        4           0.0    0    0    0    0   \n",
       " 2013-01-01 02:00:00+09:00     -9.4      -40           0.0    0    0    0    0   \n",
       " 2013-01-01 03:00:00+09:00    -10.1      -66           0.9    0    0    0    0   \n",
       " 2013-01-01 04:00:00+09:00     -9.8      -81          12.0    0    0    0    0   \n",
       " 2013-01-01 05:00:00+09:00     -8.7      -91          32.3    0    0    0    0   \n",
       " ...                            ...      ...           ...  ...  ...  ...  ...   \n",
       " 2019-12-31 20:00:00+09:00     -0.6      102           0.0    0    0    0    0   \n",
       " 2019-12-31 21:00:00+09:00     -0.8       94           0.0    0    0    0    0   \n",
       " 2019-12-31 22:00:00+09:00     -1.2       86           0.0    0    0    0    0   \n",
       " 2019-12-31 23:00:00+09:00     -1.6       74           0.0    0    0    0    0   \n",
       " 2020-01-01 00:00:00+09:00     -1.9       51           0.0    0    0    0    0   \n",
       " \n",
       "                            Zenith  site  month  day  hour  dayofyear  \n",
       " PeriodEnd                                                             \n",
       " 2013-01-01 01:00:00+09:00     164   1.0      1    1     1          1  \n",
       " 2013-01-01 02:00:00+09:00     161   1.0      1    1     2          1  \n",
       " 2013-01-01 03:00:00+09:00     151   1.0      1    1     3          1  \n",
       " 2013-01-01 04:00:00+09:00     140   1.0      1    1     4          1  \n",
       " 2013-01-01 05:00:00+09:00     128   1.0      1    1     5          1  \n",
       " ...                           ...   ...    ...  ...   ...        ...  \n",
       " 2019-12-31 20:00:00+09:00     115   6.3     12   31    20        365  \n",
       " 2019-12-31 21:00:00+09:00     127   6.3     12   31    21        365  \n",
       " 2019-12-31 22:00:00+09:00     139   6.3     12   31    22        365  \n",
       " 2019-12-31 23:00:00+09:00     151   6.3     12   31    23        365  \n",
       " 2020-01-01 00:00:00+09:00     162   6.3      1    1     0          1  \n",
       " \n",
       " [490560 rows x 13 columns],\n",
       "                            발전량  site\n",
       " 2013-01-01 01:00:00+09:00  0.0   1.0\n",
       " 2013-01-01 02:00:00+09:00  0.0   1.0\n",
       " 2013-01-01 03:00:00+09:00  0.0   1.0\n",
       " 2013-01-01 04:00:00+09:00  0.0   1.0\n",
       " 2013-01-01 05:00:00+09:00  0.0   1.0\n",
       " ...                        ...   ...\n",
       " 2019-12-31 20:00:00+09:00  0.0   6.3\n",
       " 2019-12-31 21:00:00+09:00  0.0   6.3\n",
       " 2019-12-31 22:00:00+09:00  0.0   6.3\n",
       " 2019-12-31 23:00:00+09:00  0.0   6.3\n",
       " 2020-01-01 00:00:00+09:00  0.0   6.3\n",
       " \n",
       " [490560 rows x 2 columns])"
      ]
     },
     "execution_count": 11,
     "metadata": {},
     "output_type": "execute_result"
    }
   ],
   "source": [
    "X_renew = X_new.drop(dropThis2016)\n",
    "y_renew = y_new.drop(dropThis2016)\n",
    "X_selected = X_renew\n",
    "y_selected = y_renew\n",
    "X_selected, y_selected"
   ]
  },
  {
   "cell_type": "code",
   "execution_count": 12,
   "id": "4afffc51",
   "metadata": {},
   "outputs": [
    {
     "data": {
      "text/plain": [
       "((420480, 13), (70080, 13), (420480, 2), (70080, 2))"
      ]
     },
     "execution_count": 12,
     "metadata": {},
     "output_type": "execute_result"
    }
   ],
   "source": [
    "X_train1, X_test1, y_train1, y_test1 = train_test_split(X_selected[X_selected['site'] == 1], y_selected[y_selected['site'] == 1], test_size=0.14285714285714285714, shuffle=False)\n",
    "X_train2, X_test2, y_train2, y_test2 = train_test_split(X_selected[X_selected['site'] == 2], y_selected[y_selected['site'] == 2], test_size=0.14285714285714285714, shuffle=False)\n",
    "X_train3, X_test3, y_train3, y_test3 = train_test_split(X_selected[X_selected['site'] == 3], y_selected[y_selected['site'] == 3], test_size=0.14285714285714285714, shuffle=False)\n",
    "X_train4, X_test4, y_train4, y_test4 = train_test_split(X_selected[X_selected['site'] == 4], y_selected[y_selected['site'] == 4], test_size=0.14285714285714285714, shuffle=False)\n",
    "X_train5, X_test5, y_train5, y_test5 = train_test_split(X_selected[X_selected['site'] == 5], y_selected[y_selected['site'] == 5], test_size=0.14285714285714285714, shuffle=False)\n",
    "X_train6_1, X_test6_1, y_train6_1, y_test6_1 = train_test_split(X_selected[X_selected['site'] == 6.1], y_selected[y_selected['site'] == 6.1], test_size=0.14285714285714285714, shuffle=False)\n",
    "X_train6_2, X_test6_2, y_train6_2, y_test6_2 = train_test_split(X_selected[X_selected['site'] == 6.2], y_selected[y_selected['site'] == 6.2], test_size=0.14285714285714285714, shuffle=False)\n",
    "X_train6_3, X_test6_3, y_train6_3, y_test6_3 = train_test_split(X_selected[X_selected['site'] == 6.3], y_selected[y_selected['site'] == 6.3], test_size=0.14285714285714285714, shuffle=False)\n",
    "\n",
    "X_train = np.concatenate((X_train1, X_train2, X_train3, X_train4, X_train5, X_train6_1, X_train6_2, X_train6_3), axis=0)\n",
    "y_train = np.concatenate((y_train1, y_train2, y_train3, y_train4, y_train5, y_train6_1, y_train6_2, y_train6_3), axis=0)\n",
    "X_test = np.concatenate((X_test1, X_test2, X_test3,X_test4, X_test5, X_test6_1, X_test6_2, X_test6_3), axis=0)\n",
    "y_test = np.concatenate((y_test1, y_test2, y_test3, y_test4, y_test5, y_test6_1, y_test6_2, y_test6_3), axis=0)\n",
    "X_train.shape, X_test.shape, y_train.shape, y_test.shape"
   ]
  },
  {
   "cell_type": "code",
   "execution_count": 13,
   "id": "82149cc7",
   "metadata": {},
   "outputs": [],
   "source": [
    "X_train = np.ascontiguousarray(X_train)\n",
    "y_train = np.ascontiguousarray(y_train)"
   ]
  },
  {
   "cell_type": "code",
   "execution_count": 14,
   "id": "51926395",
   "metadata": {},
   "outputs": [
    {
     "name": "stderr",
     "output_type": "stream",
     "text": [
      "/Users/itd/opt/anaconda3/envs/fbprophet/lib/python3.7/site-packages/xgboost/data.py:114: UserWarning: Use subset (sliced data) of np.ndarray is not recommended because it will generate extra copies and increase memory consumption\n",
      "  \"because it will generate extra copies and increase \" +\n"
     ]
    }
   ],
   "source": [
    "multi_xgb = MultiOutputRegressor(xgboost.XGBRegressor(n_jobs = multiprocessing.cpu_count(),n_estimators = 400, max_depth = 4, learning_rate = 0.1))\n",
    "fit_result = multi_xgb.fit(X_train, y_train)"
   ]
  },
  {
   "cell_type": "code",
   "execution_count": 15,
   "id": "ccb6388e",
   "metadata": {},
   "outputs": [
    {
     "name": "stderr",
     "output_type": "stream",
     "text": [
      "/Users/itd/opt/anaconda3/envs/fbprophet/lib/python3.7/site-packages/xgboost/data.py:114: UserWarning: Use subset (sliced data) of np.ndarray is not recommended because it will generate extra copies and increase memory consumption\n",
      "  \"because it will generate extra copies and increase \" +\n",
      "/Users/itd/opt/anaconda3/envs/fbprophet/lib/python3.7/site-packages/xgboost/data.py:114: UserWarning: Use subset (sliced data) of np.ndarray is not recommended because it will generate extra copies and increase memory consumption\n",
      "  \"because it will generate extra copies and increase \" +\n"
     ]
    }
   ],
   "source": [
    "y_pred_multixgb = multi_xgb.fit(X_train, y_train).predict(X_test).reshape(-1,2)\n",
    "df_y_pred_multixgb = pd.DataFrame(data=y_pred_multixgb, columns=['발전량','site'])\n",
    "df_y_pred_multixgb['site'] = np.round(df_y_pred_multixgb['site'], 1)\n",
    "df_y_test = pd.DataFrame(data=y_test, columns=['발전량', 'site'])"
   ]
  },
  {
   "cell_type": "code",
   "execution_count": 16,
   "id": "e9ab9c97",
   "metadata": {},
   "outputs": [
    {
     "data": {
      "text/plain": [
       "0        1.0\n",
       "1        1.0\n",
       "2        1.0\n",
       "3        1.0\n",
       "4        1.0\n",
       "        ... \n",
       "70075    6.3\n",
       "70076    6.3\n",
       "70077    6.3\n",
       "70078    6.3\n",
       "70079    6.3\n",
       "Name: site, Length: 70080, dtype: float32"
      ]
     },
     "execution_count": 16,
     "metadata": {},
     "output_type": "execute_result"
    }
   ],
   "source": [
    "df_y_pred_multixgb['site']"
   ]
  },
  {
   "cell_type": "code",
   "execution_count": 17,
   "id": "5372c764",
   "metadata": {},
   "outputs": [],
   "source": [
    "error_xgb = pd.DataFrame(data=np.zeros(y_pred_multixgb.shape), columns=['발전량','site'])\n",
    "error_xgb['발전량'] = df_y_test['발전량'] - df_y_pred_multixgb['발전량']\n",
    "error_xgb['site'] = df_y_test['site']\n",
    "abserror_xgb = abs(error_xgb)"
   ]
  },
  {
   "cell_type": "code",
   "execution_count": 18,
   "id": "20d75156",
   "metadata": {},
   "outputs": [
    {
     "data": {
      "text/plain": [
       "발전량     23.995833\n",
       "site     1.000000\n",
       "dtype: float64"
      ]
     },
     "execution_count": 18,
     "metadata": {},
     "output_type": "execute_result"
    }
   ],
   "source": [
    "np.mean(abserror_xgb[abserror_xgb['site'] == 1.0])"
   ]
  },
  {
   "cell_type": "code",
   "execution_count": 19,
   "id": "4089141f",
   "metadata": {},
   "outputs": [
    {
     "data": {
      "text/plain": [
       "발전량     6.77381\n",
       "site    2.00000\n",
       "dtype: float64"
      ]
     },
     "execution_count": 19,
     "metadata": {},
     "output_type": "execute_result"
    }
   ],
   "source": [
    "np.mean(abserror_xgb[abserror_xgb['site'] == 2.0])"
   ]
  },
  {
   "cell_type": "code",
   "execution_count": 20,
   "id": "f5ea398f",
   "metadata": {},
   "outputs": [
    {
     "data": {
      "text/plain": [
       "발전량     7.773418\n",
       "site    3.000000\n",
       "dtype: float64"
      ]
     },
     "execution_count": 20,
     "metadata": {},
     "output_type": "execute_result"
    }
   ],
   "source": [
    "np.mean(abserror_xgb[abserror_xgb['site'] == 3.0])"
   ]
  },
  {
   "cell_type": "code",
   "execution_count": 21,
   "id": "96225606",
   "metadata": {},
   "outputs": [
    {
     "data": {
      "text/plain": [
       "발전량     5.159973\n",
       "site    4.000000\n",
       "dtype: float64"
      ]
     },
     "execution_count": 21,
     "metadata": {},
     "output_type": "execute_result"
    }
   ],
   "source": [
    "np.mean(abserror_xgb[abserror_xgb['site'] == 4.0])"
   ]
  },
  {
   "cell_type": "code",
   "execution_count": 22,
   "id": "a180b1c1",
   "metadata": {},
   "outputs": [
    {
     "data": {
      "text/plain": [
       "발전량     4.132311\n",
       "site    5.000000\n",
       "dtype: float64"
      ]
     },
     "execution_count": 22,
     "metadata": {},
     "output_type": "execute_result"
    }
   ],
   "source": [
    "np.mean(abserror_xgb[abserror_xgb['site'] == 5.0])"
   ]
  },
  {
   "cell_type": "code",
   "execution_count": 23,
   "id": "6abf9bf5",
   "metadata": {
    "scrolled": true
   },
   "outputs": [
    {
     "data": {
      "text/plain": [
       "발전량     28.733438\n",
       "site     6.100000\n",
       "dtype: float64"
      ]
     },
     "execution_count": 23,
     "metadata": {},
     "output_type": "execute_result"
    }
   ],
   "source": [
    "np.mean(abserror_xgb[abserror_xgb['site'] == 6.1])"
   ]
  },
  {
   "cell_type": "code",
   "execution_count": 24,
   "id": "91e6e993",
   "metadata": {},
   "outputs": [
    {
     "data": {
      "text/plain": [
       "발전량     40.828764\n",
       "site     6.200000\n",
       "dtype: float64"
      ]
     },
     "execution_count": 24,
     "metadata": {},
     "output_type": "execute_result"
    }
   ],
   "source": [
    "np.mean(abserror_xgb[abserror_xgb['site'] == 6.2])"
   ]
  },
  {
   "cell_type": "code",
   "execution_count": 25,
   "id": "1311b4e9",
   "metadata": {},
   "outputs": [
    {
     "data": {
      "text/plain": [
       "발전량     16.355155\n",
       "site     6.300000\n",
       "dtype: float64"
      ]
     },
     "execution_count": 25,
     "metadata": {},
     "output_type": "execute_result"
    }
   ],
   "source": [
    "np.mean(abserror_xgb[abserror_xgb['site'] == 6.3])"
   ]
  },
  {
   "cell_type": "code",
   "execution_count": null,
   "id": "c89157fb",
   "metadata": {},
   "outputs": [],
   "source": [
    "df_y_pred_multixgb[70032:70056]"
   ]
  },
  {
   "cell_type": "code",
   "execution_count": null,
   "id": "93866cc9",
   "metadata": {},
   "outputs": [],
   "source": [
    "df_y_test[0:23]"
   ]
  },
  {
   "cell_type": "code",
   "execution_count": null,
   "id": "1b5a5235",
   "metadata": {},
   "outputs": [],
   "source": []
  },
  {
   "cell_type": "code",
   "execution_count": null,
   "id": "a248f269",
   "metadata": {},
   "outputs": [],
   "source": [
    "df_y_test"
   ]
  },
  {
   "cell_type": "code",
   "execution_count": null,
   "id": "d816dbfa",
   "metadata": {},
   "outputs": [],
   "source": [
    "joblib.dump(fit_result, \"xgboost.pickle\")"
   ]
  },
  {
   "cell_type": "code",
   "execution_count": null,
   "id": "e3f0071e",
   "metadata": {},
   "outputs": [],
   "source": [
    "load = joblib.load('xgboost.pickle')\n",
    "load.estimator"
   ]
  },
  {
   "cell_type": "code",
   "execution_count": null,
   "id": "82e1130b",
   "metadata": {},
   "outputs": [],
   "source": [
    "df_y_pred_multixgb"
   ]
  },
  {
   "cell_type": "code",
   "execution_count": null,
   "id": "cabd3b4a",
   "metadata": {
    "scrolled": true
   },
   "outputs": [],
   "source": [
    "df_y_pred_multixgb['발전량'].loc['2019-01-01'].plot()"
   ]
  },
  {
   "cell_type": "code",
   "execution_count": null,
   "id": "562b108b",
   "metadata": {},
   "outputs": [],
   "source": []
  },
  {
   "cell_type": "code",
   "execution_count": null,
   "id": "9f9fcd94",
   "metadata": {},
   "outputs": [],
   "source": []
  }
 ],
 "metadata": {
  "interpreter": {
   "hash": "d571bcb93e1dcdcb5c4810f395b93ecf56ee2d1800dc534088d01f49c712baa1"
  },
  "kernelspec": {
   "display_name": "Python 3",
   "language": "python",
   "name": "python3"
  },
  "language_info": {
   "codemirror_mode": {
    "name": "ipython",
    "version": 3
   },
   "file_extension": ".py",
   "mimetype": "text/x-python",
   "name": "python",
   "nbconvert_exporter": "python",
   "pygments_lexer": "ipython3",
   "version": "3.7.10"
  }
 },
 "nbformat": 4,
 "nbformat_minor": 5
}
